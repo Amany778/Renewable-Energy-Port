{
 "cells": [
  {
   "cell_type": "code",
   "execution_count": 1,
   "id": "ccd3fa5c-0550-4021-8fee-75612bab0445",
   "metadata": {},
   "outputs": [],
   "source": [
    "# Initial imports\n",
    "import os\n",
    "import requests\n",
    "import pandas as pd\n",
    "from dotenv import load_dotenv\n",
    "import alpaca_trade_api as tradeapi\n",
    "from MCForecastTools import MCSimulation\n",
    "from datetime import datetime\n",
    "\n",
    "%matplotlib inline"
   ]
  },
  {
   "cell_type": "code",
   "execution_count": 6,
   "id": "465d9daf-9875-43e8-9c5f-bab46b20d443",
   "metadata": {},
   "outputs": [],
   "source": [
    "#intializing alpaca trade api\n",
    "load_dotenv()\n",
    "alpaca_api_key=os.getenv('ALPACA_API_KEY')\n",
    "alpaca_secret_key=os.getenv('ALPACA_SECRET_KEY')\n",
    "alpaca=tradeapi.REST(alpaca_api_key,alpaca_secret_key, api_version='v2')"
   ]
  },
  {
   "cell_type": "code",
   "execution_count": 102,
   "id": "5ac9980f-257d-4cb6-9559-a5573b74b126",
   "metadata": {},
   "outputs": [],
   "source": [
    "\n",
    "\n",
    "#function that pulls tickers daily closing prices in the given time period using alpaca trade api, \n",
    "#intialization of the api is required before using.\n",
    "#It returns a dataframe with the tickers, and closing prices as two level column structured datafram with index defined as date  \n",
    "\n",
    "def get_tickers_data(tickers, start_date, end_date, timeframe):\n",
    "    start_date = pd.Timestamp(start_date, tz = \"America/New_York\").isoformat()\n",
    "    end_date = pd.Timestamp(end_date, tz = \"America/New_York\").isoformat()\n",
    "    tickers_data_df = alpaca.get_bars(tickers, timeframe,start_date , end_date, adjustment = 'raw').df\n",
    "    tickers_data_df.index = tickers_data_df.index.date\n",
    "    tickers_data_df = tickers_data_df[['symbol', 'close']]\n",
    "    tickers_data_list=[]\n",
    "    for ticker in tickers:\n",
    "        tickers_data_list.append(tickers_data_df[tickers_data_df['symbol']==ticker].drop('symbol', axis=1))\n",
    "        \n",
    "    clean_tickers_data = pd.concat(tickers_data_list,axis=1, keys=tickers)\n",
    "    return clean_tickers_data\n",
    "\n",
    "    \n",
    "\n"
   ]
  },
  {
   "cell_type": "code",
   "execution_count": 103,
   "id": "5460120f-9c7a-421c-9849-8ed34e0b7bf6",
   "metadata": {},
   "outputs": [],
   "source": [
    "#defining the stockes in the solar energy portfolio form top performers in 2021 using mootley fool and investopedia. The companies are:\n",
    "#1.First Solar (FSLR)\n",
    "#2.Brookfield Renewable (BEPC)\n",
    "#3.Solar Edge Technologies (SEDG)\n",
    "#4.Daqo New Energy Corp. (DQ)\n",
    "#5.Canadian Solar INC (CSIQ)\n",
    "\n",
    "tickers = ['SPY', 'FSLR', 'BEPC' , 'SEDG', 'DQ','CSIQ']\n",
    "timeframe='1Day'\n",
    "\n",
    "start_date_war = '2022-02-20'\n",
    "end_date_war = '2022-04-11'\n",
    "\n",
    "\n",
    "tickers_data_wartime = get_tickers_data(tickers, start_date_war, end_date_war, timeframe) \n"
   ]
  },
  {
   "cell_type": "code",
   "execution_count": 104,
   "id": "2f934e51-f614-4f2a-9dc4-dc4136999076",
   "metadata": {},
   "outputs": [],
   "source": [
    "# COVID time frame (~2 years)\n",
    "start_date_covid = '2020-01-01'\n",
    "end_date_covid = '2022-02-19'\n",
    "tickers_data_covid = get_tickers_data(tickers, start_date_covid, end_date_covid, timeframe) "
   ]
  },
  {
   "cell_type": "code",
   "execution_count": 105,
   "id": "cddad21d-48d8-4a23-964f-feb697cfa36c",
   "metadata": {},
   "outputs": [],
   "source": [
    "# pre-Covid time frame (2 years)\n",
    "start_date_pre_covid = '2018-01-01'\n",
    "end_date_pre_covid = '2019-12-31'\n",
    "tickers_data_pre_covid = get_tickers_data(tickers, start_date_pre_covid, end_date_pre_covid, timeframe) "
   ]
  },
  {
   "cell_type": "code",
   "execution_count": 106,
   "id": "cebdb0de-a197-4c8a-aa13-2a384009f92f",
   "metadata": {},
   "outputs": [
    {
     "data": {
      "text/html": [
       "<div>\n",
       "<style scoped>\n",
       "    .dataframe tbody tr th:only-of-type {\n",
       "        vertical-align: middle;\n",
       "    }\n",
       "\n",
       "    .dataframe tbody tr th {\n",
       "        vertical-align: top;\n",
       "    }\n",
       "\n",
       "    .dataframe thead tr th {\n",
       "        text-align: left;\n",
       "    }\n",
       "</style>\n",
       "<table border=\"1\" class=\"dataframe\">\n",
       "  <thead>\n",
       "    <tr>\n",
       "      <th></th>\n",
       "      <th>SPY</th>\n",
       "      <th>FSLR</th>\n",
       "      <th>BEPC</th>\n",
       "      <th>SEDG</th>\n",
       "      <th>DQ</th>\n",
       "      <th>CSIQ</th>\n",
       "    </tr>\n",
       "    <tr>\n",
       "      <th></th>\n",
       "      <th>close</th>\n",
       "      <th>close</th>\n",
       "      <th>close</th>\n",
       "      <th>close</th>\n",
       "      <th>close</th>\n",
       "      <th>close</th>\n",
       "    </tr>\n",
       "  </thead>\n",
       "  <tbody>\n",
       "    <tr>\n",
       "      <th>2020-01-02</th>\n",
       "      <td>324.87</td>\n",
       "      <td>57.24</td>\n",
       "      <td>NaN</td>\n",
       "      <td>101.81</td>\n",
       "      <td>54.98</td>\n",
       "      <td>22.520</td>\n",
       "    </tr>\n",
       "    <tr>\n",
       "      <th>2020-01-03</th>\n",
       "      <td>322.41</td>\n",
       "      <td>57.02</td>\n",
       "      <td>NaN</td>\n",
       "      <td>102.38</td>\n",
       "      <td>54.45</td>\n",
       "      <td>21.800</td>\n",
       "    </tr>\n",
       "    <tr>\n",
       "      <th>2020-01-06</th>\n",
       "      <td>323.64</td>\n",
       "      <td>55.83</td>\n",
       "      <td>NaN</td>\n",
       "      <td>99.63</td>\n",
       "      <td>53.85</td>\n",
       "      <td>22.320</td>\n",
       "    </tr>\n",
       "    <tr>\n",
       "      <th>2020-01-07</th>\n",
       "      <td>322.73</td>\n",
       "      <td>56.67</td>\n",
       "      <td>NaN</td>\n",
       "      <td>101.79</td>\n",
       "      <td>53.36</td>\n",
       "      <td>22.355</td>\n",
       "    </tr>\n",
       "    <tr>\n",
       "      <th>2020-01-08</th>\n",
       "      <td>324.45</td>\n",
       "      <td>56.70</td>\n",
       "      <td>NaN</td>\n",
       "      <td>104.16</td>\n",
       "      <td>54.38</td>\n",
       "      <td>22.570</td>\n",
       "    </tr>\n",
       "  </tbody>\n",
       "</table>\n",
       "</div>"
      ],
      "text/plain": [
       "               SPY   FSLR  BEPC    SEDG     DQ    CSIQ\n",
       "             close  close close   close  close   close\n",
       "2020-01-02  324.87  57.24   NaN  101.81  54.98  22.520\n",
       "2020-01-03  322.41  57.02   NaN  102.38  54.45  21.800\n",
       "2020-01-06  323.64  55.83   NaN   99.63  53.85  22.320\n",
       "2020-01-07  322.73  56.67   NaN  101.79  53.36  22.355\n",
       "2020-01-08  324.45  56.70   NaN  104.16  54.38  22.570"
      ]
     },
     "execution_count": 106,
     "metadata": {},
     "output_type": "execute_result"
    }
   ],
   "source": [
    "#table= pd.pivot_table(yearly, values = 'close', index = [yearly.index], columns = ['symbol'])))\n",
    "tickers_data_covid.head()"
   ]
  }
 ],
 "metadata": {
  "kernelspec": {
   "display_name": "Python 3 (ipykernel)",
   "language": "python",
   "name": "python3"
  },
  "language_info": {
   "codemirror_mode": {
    "name": "ipython",
    "version": 3
   },
   "file_extension": ".py",
   "mimetype": "text/x-python",
   "name": "python",
   "nbconvert_exporter": "python",
   "pygments_lexer": "ipython3",
   "version": "3.7.11"
  }
 },
 "nbformat": 4,
 "nbformat_minor": 5
}
